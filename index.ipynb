{
 "cells": [
  {
   "cell_type": "markdown",
   "id": "d969a371",
   "metadata": {},
   "source": [
    "# Using `psh` magics\n",
    "> An introduction to `pshnb`"
   ]
  },
  {
   "cell_type": "markdown",
   "id": "ba9ee970",
   "metadata": {},
   "source": [
    "`pshnb` adds `%psh` and `%%psh` functions to Jupyter and IPython, which execute expressions in a persistent shell."
   ]
  },
  {
   "cell_type": "markdown",
   "id": "c9fad7fe",
   "metadata": {},
   "source": [
    "## Installation"
   ]
  },
  {
   "cell_type": "markdown",
   "id": "67e0aaac",
   "metadata": {},
   "source": [
    "Install pshnb with:\n",
    "\n",
    "```\n",
    "pip install pshnb\n",
    "```\n",
    "\n",
    "Once that's complete, you can install the magics to all IPython and Jupyter sessions automatically by running in your terminal:\n",
    "\n",
    "```\n",
    "pshnb_install\n",
    "```"
   ]
  },
  {
   "cell_type": "markdown",
   "id": "cb919ad1",
   "metadata": {},
   "source": [
    "## What's the point?"
   ]
  },
  {
   "cell_type": "markdown",
   "id": "77e9194e",
   "metadata": {},
   "source": [
    "In jupyter and ipython, you can run a shell command using the `!` prefix:"
   ]
  },
  {
   "cell_type": "code",
   "execution_count": null,
   "id": "6927a9a0",
   "metadata": {},
   "outputs": [
    {
     "name": "stdout",
     "output_type": "stream",
     "text": [
      "/Users/jhoward/Documents/GitHub/pshnb\r\n"
     ]
    }
   ],
   "source": [
    "!pwd"
   ]
  },
  {
   "cell_type": "markdown",
   "id": "2f413e70",
   "metadata": {},
   "source": [
    "However, each time you run this command, a new shell is created and then removed, so for instance, `cd` doesn't actually do anything if you run another command afterwards:"
   ]
  },
  {
   "cell_type": "code",
   "execution_count": null,
   "id": "10dfeb9d",
   "metadata": {},
   "outputs": [
    {
     "name": "stdout",
     "output_type": "stream",
     "text": [
      "/Users/jhoward/Documents/GitHub/pshnb\r\n"
     ]
    }
   ],
   "source": [
    "!cd ..\n",
    "!pwd"
   ]
  },
  {
   "cell_type": "markdown",
   "id": "65a3bf8b",
   "metadata": {},
   "source": [
    "As you see from the `!pwd` output, the directory hasn't actually changed!\n",
    "\n",
    "`%psh`, on the other hand, creates a *persistent* shell, which solves this problem:"
   ]
  },
  {
   "cell_type": "code",
   "execution_count": null,
   "id": "be0e4948",
   "metadata": {},
   "outputs": [
    {
     "name": "stdout",
     "output_type": "stream",
     "text": [
      "/Users/jhoward/Documents/GitHub/pshnb\n"
     ]
    }
   ],
   "source": [
    "%psh pwd"
   ]
  },
  {
   "cell_type": "code",
   "execution_count": null,
   "id": "1cc95899",
   "metadata": {},
   "outputs": [
    {
     "name": "stdout",
     "output_type": "stream",
     "text": [
      "/Users/jhoward/Documents/GitHub\n"
     ]
    }
   ],
   "source": [
    "%psh cd ..\n",
    "%psh pwd"
   ]
  },
  {
   "cell_type": "markdown",
   "id": "c38c5a50",
   "metadata": {},
   "source": [
    "With `%psh`, you can implement, and document in notebooks, multi-step stateful shell interactions, including setting environment variables, sourcing scripts, and changing directories."
   ]
  },
  {
   "cell_type": "markdown",
   "id": "d47412a5",
   "metadata": {},
   "source": [
    "## Features"
   ]
  },
  {
   "cell_type": "markdown",
   "id": "f723a8d0",
   "metadata": {},
   "source": [
    "### Cell magic"
   ]
  },
  {
   "cell_type": "markdown",
   "id": "7458388b",
   "metadata": {},
   "source": [
    "You can use the `%%psh` cell magic to run multi-line shell commands, such as here-docs. For instance:"
   ]
  },
  {
   "cell_type": "code",
   "execution_count": null,
   "id": "52112f28",
   "metadata": {},
   "outputs": [],
   "source": [
    "%%psh\n",
    "cat > tmp << EOF\n",
    "hi\n",
    "there\n",
    "EOF"
   ]
  },
  {
   "cell_type": "markdown",
   "id": "f2a2c4e1",
   "metadata": {},
   "source": [
    "This creates a file called `tmp` containing two lines. Let's check it worked, and then remove it -- as you see, you can also use the cell magic to run multiple commands:"
   ]
  },
  {
   "cell_type": "code",
   "execution_count": null,
   "id": "1eb29d47",
   "metadata": {},
   "outputs": [
    {
     "name": "stdout",
     "output_type": "stream",
     "text": [
      "hi\r\n",
      "there\n"
     ]
    }
   ],
   "source": [
    "%%psh\n",
    "cat tmp\n",
    "rm tmp"
   ]
  },
  {
   "cell_type": "markdown",
   "id": "18dbf666",
   "metadata": {},
   "source": [
    "### Variable expansion"
   ]
  },
  {
   "cell_type": "markdown",
   "id": "aa737da1",
   "metadata": {},
   "source": [
    "You can pipe commands together just like in a regular shell, and use standard unix utilities like `head` to process the output. For instance, here we show just the first 3 lines of the directory listing:"
   ]
  },
  {
   "cell_type": "code",
   "execution_count": null,
   "id": "88cae507",
   "metadata": {},
   "outputs": [],
   "source": [
    "%psh ls | head -3"
   ]
  },
  {
   "cell_type": "markdown",
   "id": "11dcdafa",
   "metadata": {},
   "source": [
    "You can use Python variables in your shell commands by prefixing them with `@{}`. For instance, here we create a variable `n` and then display it using `echo`:"
   ]
  },
  {
   "cell_type": "code",
   "execution_count": null,
   "id": "66765d04",
   "metadata": {},
   "outputs": [],
   "source": [
    "n = 2"
   ]
  },
  {
   "cell_type": "code",
   "execution_count": null,
   "id": "13999ec5",
   "metadata": {},
   "outputs": [
    {
     "name": "stdout",
     "output_type": "stream",
     "text": [
      "2\n"
     ]
    }
   ],
   "source": [
    "%psh echo @{n}"
   ]
  },
  {
   "cell_type": "markdown",
   "id": "b468b7db",
   "metadata": {},
   "source": [
    "Here we use `n` to show just the first two entries from the directory listing:"
   ]
  },
  {
   "cell_type": "code",
   "execution_count": null,
   "id": "972ceb3e",
   "metadata": {},
   "outputs": [
    {
     "name": "stdout",
     "output_type": "stream",
     "text": [
      "\u001b[34mContextKit\u001b[39;49m\u001b[0m\r\n",
      "\u001b[34mFastHTML-Gallery\u001b[39;49m\u001b[0m\n"
     ]
    }
   ],
   "source": [
    "%psh ls | head -@{n}"
   ]
  },
  {
   "cell_type": "markdown",
   "id": "09de8f02",
   "metadata": {},
   "source": [
    "### Background tasks"
   ]
  },
  {
   "cell_type": "markdown",
   "id": "e47e6917",
   "metadata": {},
   "source": [
    "You can run commands in the background in the shell by adding `&` at the end of a command. The parentheses `(...)` group commands together to run as one unit. In this example, we first print \"starting\", and then create a background process that will wait for 1 second (using `sleep 1`) and then print \"finished\". The shell immediately shows us \"starting\" and tells us it created background process number 1 (with a process ID):"
   ]
  },
  {
   "cell_type": "code",
   "execution_count": null,
   "id": "3de04eee",
   "metadata": {},
   "outputs": [
    {
     "name": "stdout",
     "output_type": "stream",
     "text": [
      "starting\r\n",
      "[1] 99418\n"
     ]
    }
   ],
   "source": [
    "%%psh\n",
    "echo starting\n",
    "(sleep 1; echo finished) &"
   ]
  },
  {
   "cell_type": "markdown",
   "id": "dd6fde98",
   "metadata": {},
   "source": [
    "For this demonstration, we wait for 1.1 seconds (slightly longer than the background process needs). During this time, the background process will complete in the background. But we won't see any output from it yet."
   ]
  },
  {
   "cell_type": "code",
   "execution_count": null,
   "id": "97498951",
   "metadata": {},
   "outputs": [],
   "source": [
    "from time import sleep\n",
    "sleep(1.1)"
   ]
  },
  {
   "cell_type": "markdown",
   "id": "fc7a24c6",
   "metadata": {},
   "source": [
    "The next time we run *any* `psh` magic we will also see any output that has occurred in our persistent shell since the last command. Run `%psh` by itself to *only* see those updates, e.g here we see that \"finished\" was printed, and the shell tells us that background job 1 completed successfully."
   ]
  },
  {
   "cell_type": "code",
   "execution_count": null,
   "id": "58be93c1",
   "metadata": {},
   "outputs": [
    {
     "name": "stdout",
     "output_type": "stream",
     "text": [
      "finished\r\n",
      "\r\n",
      "[1]+  Done                    ( sleep 1; echo finished )\n"
     ]
    }
   ],
   "source": [
    "%psh"
   ]
  },
  {
   "cell_type": "markdown",
   "id": "69f0197a",
   "metadata": {},
   "source": [
    "### Flags"
   ]
  },
  {
   "cell_type": "markdown",
   "id": "c8314764",
   "metadata": {},
   "source": [
    "You can get help on the `%psh` magic's options using `-h`."
   ]
  },
  {
   "cell_type": "code",
   "execution_count": null,
   "id": "a83f67b4",
   "metadata": {},
   "outputs": [
    {
     "name": "stdout",
     "output_type": "stream",
     "text": [
      "::\n",
      "\n",
      "  %psh [-h] [-r] [-o] [-x] [-X] [-s] [-S] [-t TIMEOUT] [command ...]\n",
      "\n",
      "Run line or cell in persistent shell\n",
      "\n",
      "positional arguments:\n",
      "  command               The command to run\n",
      "\n",
      "options:\n",
      "  -h, --help            Show this help\n",
      "  -r, --reset           Reset the shell interpreter\n",
      "  -o, --obj             Return this magic object\n",
      "  -x, --expand          Enable variable expansion\n",
      "  -X, --no-expand       Disable variable expansion\n",
      "  -s, --sudo            Enable sudo\n",
      "  -S, --no-sudo         Disable sudo\n",
      "  -t TIMEOUT, --timeout TIMEOUT\n",
      "                        Set timeout in seconds\n"
     ]
    }
   ],
   "source": [
    "%psh -h"
   ]
  },
  {
   "cell_type": "markdown",
   "id": "1c25d321",
   "metadata": {},
   "source": [
    "You can reset the shell to its initial state using the `-r` flag. Let's first check our current directory:"
   ]
  },
  {
   "cell_type": "code",
   "execution_count": null,
   "id": "8ce2d26c",
   "metadata": {},
   "outputs": [
    {
     "name": "stdout",
     "output_type": "stream",
     "text": [
      "/Users/jhoward/Documents/GitHub\n"
     ]
    }
   ],
   "source": [
    "%psh pwd"
   ]
  },
  {
   "cell_type": "markdown",
   "id": "bd6954d3",
   "metadata": {},
   "source": [
    "Now let's reset the shell:"
   ]
  },
  {
   "cell_type": "code",
   "execution_count": null,
   "id": "b934eb1d",
   "metadata": {},
   "outputs": [],
   "source": [
    "%psh -r"
   ]
  },
  {
   "cell_type": "markdown",
   "id": "c23edbf1",
   "metadata": {},
   "source": [
    "As you can see, after resetting we're back in our starting directory:"
   ]
  },
  {
   "cell_type": "code",
   "execution_count": null,
   "id": "82ecc695",
   "metadata": {},
   "outputs": [
    {
     "name": "stdout",
     "output_type": "stream",
     "text": [
      "/Users/jhoward/Documents/GitHub/pshnb\n"
     ]
    }
   ],
   "source": [
    "%psh pwd"
   ]
  },
  {
   "cell_type": "markdown",
   "id": "5c741bb0",
   "metadata": {},
   "source": [
    "The `-s` flag enables `sudo` mode, which runs commands as the root user, and `-S` disables it. For instance, here we first enable `sudo` mode:"
   ]
  },
  {
   "cell_type": "code",
   "execution_count": null,
   "id": "77575e38",
   "metadata": {},
   "outputs": [],
   "source": [
    "%psh -s"
   ]
  },
  {
   "cell_type": "markdown",
   "id": "f2360621",
   "metadata": {},
   "source": [
    "Then we can check which user we're running as:"
   ]
  },
  {
   "cell_type": "code",
   "execution_count": null,
   "id": "7125b817",
   "metadata": {},
   "outputs": [
    {
     "name": "stdout",
     "output_type": "stream",
     "text": [
      "root\n"
     ]
    }
   ],
   "source": [
    "%psh whoami"
   ]
  },
  {
   "cell_type": "markdown",
   "id": "fd6b77f9",
   "metadata": {},
   "source": [
    "As you can see, we're now running as `root`. We can disable `sudo` mode:"
   ]
  },
  {
   "cell_type": "code",
   "execution_count": null,
   "id": "1169a0ab",
   "metadata": {},
   "outputs": [],
   "source": [
    "%psh -S"
   ]
  },
  {
   "cell_type": "markdown",
   "id": "5528aee8",
   "metadata": {},
   "source": [
    "And when we check again, we're back to our regular user:"
   ]
  },
  {
   "cell_type": "code",
   "execution_count": null,
   "id": "a2193f7e",
   "metadata": {},
   "outputs": [
    {
     "name": "stdout",
     "output_type": "stream",
     "text": [
      "jhoward\n"
     ]
    }
   ],
   "source": [
    "%psh whoami"
   ]
  },
  {
   "cell_type": "markdown",
   "id": "a37ad61c",
   "metadata": {},
   "source": [
    "You can set a timeout (in seconds) using the `-t` flag, which will raise a `TIMEOUT` exception if a command takes too long. For instance, here we set a 1-second timeout:"
   ]
  },
  {
   "cell_type": "code",
   "execution_count": null,
   "id": "de589a7f",
   "metadata": {},
   "outputs": [],
   "source": [
    "%psh -t 1"
   ]
  },
  {
   "cell_type": "markdown",
   "id": "a0f817d9",
   "metadata": {},
   "source": [
    "Then we try to run a command that sleeps for 2 seconds -- since this is longer than our timeout, we'll get a timeout error:"
   ]
  },
  {
   "cell_type": "code",
   "execution_count": null,
   "id": "2905556b",
   "metadata": {},
   "outputs": [],
   "source": [
    "try: get_ipython().run_line_magic('psh', 'sleep 2')\n",
    "except TIMEOUT: print(\"timed out\")"
   ]
  },
  {
   "cell_type": "code",
   "execution_count": null,
   "id": "7e7eec9d",
   "metadata": {},
   "outputs": [],
   "source": []
  }
 ],
 "metadata": {
  "kernelspec": {
   "display_name": "python3",
   "language": "python",
   "name": "python3"
  }
 },
 "nbformat": 4,
 "nbformat_minor": 5
}
