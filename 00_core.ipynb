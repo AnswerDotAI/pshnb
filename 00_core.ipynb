{
 "cells": [
  {
   "cell_type": "code",
   "execution_count": null,
   "id": "c54b1bef",
   "metadata": {},
   "outputs": [],
   "source": [
    "#| default_exp core"
   ]
  },
  {
   "cell_type": "markdown",
   "id": "a1f9e825",
   "metadata": {},
   "source": [
    "# bashnb IPython magic\n",
    "> Provides `psh` persistent bash magics in Jupyter and IPython"
   ]
  },
  {
   "cell_type": "code",
   "execution_count": null,
   "id": "fe6dcafd",
   "metadata": {},
   "outputs": [],
   "source": [
    "#| export\n",
    "import pexpect, re, os\n",
    "from pathlib import Path\n",
    "from IPython.core.magic import register_cell_magic\n",
    "from IPython.display import display, Javascript\n",
    "from IPython.paths import get_ipython_dir\n",
    "from IPython.core.interactiveshell import InteractiveShell"
   ]
  },
  {
   "cell_type": "code",
   "execution_count": null,
   "id": "dab3d4c3",
   "metadata": {},
   "outputs": [],
   "source": [
    "__file__ = './00_core.ipynb'"
   ]
  },
  {
   "cell_type": "code",
   "execution_count": null,
   "id": "2ed1a8cd",
   "metadata": {},
   "outputs": [
    {
     "data": {
      "text/plain": [
       "0"
      ]
     },
     "execution_count": null,
     "metadata": {},
     "output_type": "execute_result"
    }
   ],
   "source": [
    "env = dict(os.environ, TERM='dumb', PS1='', PS2='')\n",
    "sh = pexpect.spawn(os.environ['SHELL'], encoding='utf-8', env=env)\n",
    "\n",
    "echo = os.urandom(8).hex()\n",
    "echo_re = re.compile(fr'^{echo}\\s*$', flags=re.MULTILINE)\n",
    "prompt = f'BASHNB_PROMPT_{echo}>'\n",
    "sh.sendline(f'export PS1=\"{prompt}\"')\n",
    "sh.sendline('set +o vi +o emacs')\n",
    "sh.sendline('echo '+echo)\n",
    "sh.expect(echo_re, timeout=2)\n",
    "sh.expect_exact(prompt, timeout=2)"
   ]
  },
  {
   "cell_type": "code",
   "execution_count": null,
   "id": "1aa3ebfd",
   "metadata": {},
   "outputs": [],
   "source": [
    "class ShellInterpreter:\n",
    "    def __init__(self, debug=False, timeout=30, shell_path=None):\n",
    "        self.debug,self.timeout = debug,timeout\n",
    "        if shell_path is None: shell_path = os.environ.get('SHELL', '/bin/bash')\n",
    "        env = dict(os.environ, TERM='xterm')\n",
    "        env = dict(os.environ, TERM='dumb')\n",
    "        self.sh = pexpect.spawn(shell_path, encoding='utf-8', env=env)\n",
    "        self.echo = os.urandom(8).hex()\n",
    "        self.echo_re = re.compile(fr'^{self.echo}\\s*$', flags=re.MULTILINE)\n",
    "        self.prompt = f'BASHNB_PROMPT_{self.echo}>'\n",
    "        self.sh.sendline(f'export PS1=\"{self.prompt}\"')\n",
    "        self.sh.sendline('set +o vi +o emacs')\n",
    "        self.wait_echo()\n",
    "        self.wait_prompt()\n",
    "        self.debug = debug\n",
    "\n",
    "    def wait_prompt(self):\n",
    "        self.sh.expect_exact(self.prompt, timeout=self.timeout)\n",
    "        if self.debug: print('$', self.sh.before)\n",
    "\n",
    "    def wait_echo(self):\n",
    "        echo = 'echo '+self.echo\n",
    "        self.sh.sendline(echo)\n",
    "        self.sh.expect(self.echo_re, timeout=self.timeout)\n",
    "        return self.sh.before.replace(echo, '').replace(self.prompt, '\\n').rstrip()\n",
    "\n",
    "    def _ex(self, s):\n",
    "        if self.debug: print('#', s)\n",
    "        self.sh.sendline(s)\n",
    "        res = self.wait_echo()\n",
    "        self.wait_prompt()\n",
    "        return res\n",
    "        \n",
    "    def __call__(self, cmd):\n",
    "        output = self._ex(cmd.rstrip())\n",
    "        return output.replace(cmd + '\\r\\n', '', 1).rstrip()"
   ]
  },
  {
   "cell_type": "code",
   "execution_count": null,
   "id": "ecf32f3e",
   "metadata": {},
   "outputs": [],
   "source": [
    "sh = ShellInterpreter(False)"
   ]
  },
  {
   "cell_type": "code",
   "execution_count": null,
   "id": "84ba6dab",
   "metadata": {},
   "outputs": [
    {
     "name": "stdout",
     "output_type": "stream",
     "text": [
      "00_core.ipynb\tMANIFEST.in\t_quarto.yml\tindex.ipynb\tsetup.py\r\n",
      "LICENSE\t\tREADME.md\tbashnb\t\tsettings.ini\tstyles.css\n"
     ]
    }
   ],
   "source": [
    "print(sh('ls'))"
   ]
  },
  {
   "cell_type": "code",
   "execution_count": null,
   "id": "e0ac18e4",
   "metadata": {},
   "outputs": [
    {
     "name": "stdout",
     "output_type": "stream",
     "text": [
      "cd ..\n",
      "ContextKit\n",
      "FastHTML-Gallery\n",
      "aimagic\n",
      "answerdotai\n",
      "aplnb\n",
      "apswutils\n",
      "audio_enhancement\n",
      "bashnb\n",
      "billing\n",
      "blog-fastai \n",
      "\n",
      "/Users/jhoward/Documents/GitHub\n"
     ]
    }
   ],
   "source": [
    "shell = ShellInterpreter(debug=False)\n",
    "print(shell('cd ..'))\n",
    "print(shell('ls | head'), '\\n')\n",
    "print(shell('pwd'))"
   ]
  },
  {
   "cell_type": "code",
   "execution_count": null,
   "id": "04f56c87",
   "metadata": {},
   "outputs": [],
   "source": [
    "#| export\n",
    "class BashMagic:\n",
    "    def __init__(self):\n",
    "        self.o = ShellInterpreter()\n",
    "\n",
    "    def bash(self, line, cell=None):\n",
    "        if line and not cell: cell=line\n",
    "        disp = True\n",
    "        if cell.endswith(';'): disp,cell = False,cell[:-1]\n",
    "        res = self.o(cell) or None\n",
    "        if disp: print(res)"
   ]
  },
  {
   "cell_type": "code",
   "execution_count": null,
   "id": "953c6348",
   "metadata": {},
   "outputs": [],
   "source": [
    "#| export\n",
    "def create_magic(shell=None):\n",
    "    if not shell: shell = get_ipython()\n",
    "    bash_magic = BashMagic()\n",
    "    shell.register_magic_function(bash_magic.bash, 'line_cell', 'psh')"
   ]
  },
  {
   "cell_type": "code",
   "execution_count": null,
   "id": "858b3925",
   "metadata": {},
   "outputs": [],
   "source": [
    "# Only required if you don't load the extension\n",
    "create_magic()"
   ]
  },
  {
   "cell_type": "code",
   "execution_count": null,
   "id": "3e0cb6bc",
   "metadata": {},
   "outputs": [],
   "source": [
    "#|export\n",
    "def load_ipython_extension(ipython):\n",
    "    \"Required function for creating magic\"\n",
    "    create_magic(shell=ipython)"
   ]
  },
  {
   "cell_type": "code",
   "execution_count": null,
   "id": "dc1836e8",
   "metadata": {},
   "outputs": [
    {
     "name": "stdout",
     "output_type": "stream",
     "text": [
      "/Users/jhoward/Documents/GitHub/bashnb\n"
     ]
    }
   ],
   "source": [
    "%psh pwd"
   ]
  },
  {
   "cell_type": "code",
   "execution_count": null,
   "id": "2acc4fc1",
   "metadata": {},
   "outputs": [
    {
     "name": "stdout",
     "output_type": "stream",
     "text": [
      "cd ..\n"
     ]
    }
   ],
   "source": [
    "%psh cd .."
   ]
  },
  {
   "cell_type": "code",
   "execution_count": null,
   "id": "393febe0",
   "metadata": {},
   "outputs": [
    {
     "name": "stdout",
     "output_type": "stream",
     "text": [
      "/Users/jhoward/Documents/GitHub\n"
     ]
    }
   ],
   "source": [
    "%psh pwd"
   ]
  },
  {
   "cell_type": "code",
   "execution_count": null,
   "id": "1c2789ac",
   "metadata": {},
   "outputs": [
    {
     "name": "stdout",
     "output_type": "stream",
     "text": [
      "cd -\r\n",
      "echo done cd\r\n",
      "/Users/jhoward/Documents/GitHub/bashnb\r\n",
      "\n",
      "done cd\n"
     ]
    }
   ],
   "source": [
    "%%psh\n",
    "cd -\n",
    "echo done cd"
   ]
  },
  {
   "cell_type": "code",
   "execution_count": null,
   "id": "66869255",
   "metadata": {},
   "outputs": [],
   "source": [
    "#| export\n",
    "def create_ipython_config():\n",
    "    \"Called by `bashnb_install` to install magic\"\n",
    "    ipython_dir = Path(get_ipython_dir())\n",
    "    cf = ipython_dir/'profile_default'/'ipython_config.py'\n",
    "    cf.parent.mkdir(parents=True, exist_ok=True)\n",
    "    if cf.exists() and 'bashnb' in cf.read_text(): return print('bashnb already installed!')\n",
    "    with cf.open(mode='a') as f: f.write(\"\\nc.InteractiveShellApp.extensions.append('bashnb.core')\\n\\n\")\n",
    "    print(f\"Jupyter config updated at {cf}\")"
   ]
  },
  {
   "cell_type": "markdown",
   "id": "94ec4289",
   "metadata": {},
   "source": [
    "## Export -"
   ]
  },
  {
   "cell_type": "code",
   "execution_count": null,
   "id": "1e9ee5c1",
   "metadata": {},
   "outputs": [],
   "source": [
    "#|hide\n",
    "#|eval: false\n",
    "from nbdev.doclinks import nbdev_export\n",
    "nbdev_export()"
   ]
  },
  {
   "cell_type": "code",
   "execution_count": null,
   "id": "451d1ea6",
   "metadata": {},
   "outputs": [],
   "source": []
  }
 ],
 "metadata": {
  "kernelspec": {
   "display_name": "python3",
   "language": "python",
   "name": "python3"
  }
 },
 "nbformat": 4,
 "nbformat_minor": 5
}
