{
 "cells": [
  {
   "cell_type": "code",
   "execution_count": null,
   "id": "c54b1bef",
   "metadata": {},
   "outputs": [],
   "source": [
    "#| default_exp core"
   ]
  },
  {
   "cell_type": "markdown",
   "id": "a1f9e825",
   "metadata": {},
   "source": [
    "# pshnb IPython magic\n",
    "> Provides `psh` persistent bash magics in Jupyter and IPython"
   ]
  },
  {
   "cell_type": "code",
   "execution_count": null,
   "id": "fe6dcafd",
   "metadata": {},
   "outputs": [],
   "source": [
    "#| export\n",
    "from fastcore.utils import *\n",
    "import pexpect, re, os, shutil\n",
    "from pexpect import TIMEOUT\n",
    "from pathlib import Path\n",
    "from getpass import getpass\n",
    "from IPython.core.magic import register_cell_magic, no_var_expand\n",
    "from IPython.display import display, Javascript\n",
    "from IPython.paths import get_ipython_dir\n",
    "from IPython.core.interactiveshell import InteractiveShell\n",
    "from IPython.core.magic_arguments import magic_arguments, argument"
   ]
  },
  {
   "cell_type": "code",
   "execution_count": null,
   "id": "dab3d4c3",
   "metadata": {},
   "outputs": [],
   "source": [
    "__file__ = './00_core.ipynb'"
   ]
  },
  {
   "cell_type": "markdown",
   "id": "4c226ed4",
   "metadata": {},
   "source": [
    "## Foundations"
   ]
  },
  {
   "cell_type": "code",
   "execution_count": null,
   "id": "a0054574",
   "metadata": {},
   "outputs": [],
   "source": [
    "env = dict(os.environ, TERM='dumb', PS1='$', PS2='$')\n",
    "eshell = os.environ['SHELL']\n",
    "sh = pexpect.spawn(eshell, encoding='utf-8', env=env)"
   ]
  },
  {
   "cell_type": "markdown",
   "id": "35bbc984",
   "metadata": {},
   "source": [
    "This cell creates the initial shell process using `pexpect.spawn()` with a basic environment configuration. The key setup includes:\n",
    "\n",
    "- **Environment variables**: Sets `TERM='dumb'` to prevent terminal formatting issues, and standardizes prompts with `PS1='$'` and `PS2='$'`\n",
    "- **Shell spawning**: Creates a persistent shell process using the user's default shell (`$SHELL`) with UTF-8 encoding\n",
    "- **Process persistence**: The `sh` object maintains a continuous connection to the shell, allowing commands to be sent and responses captured across multiple interactions\n",
    "\n",
    "PS1 is the primary shell prompt (what you see when the shell is ready for a command), and PS2 is the secondary prompt (shown when a command spans multiple lines or is incomplete). `pexpect` is a Python library for controlling interactive command-line programs by automating the sending of inputs and reading of outputs. It's particularly useful for automating tasks that normally require human interaction. `spawn` is pexpect's main function that starts a child process (like a shell) and returns a pexpect object that can communicate with it. Unlike `subprocess`, spawn maintains an interactive session - you can send commands, wait for responses, and continue the conversation with the same process instance.\n",
    "\n",
    "This establishes the foundation for persistent shell state - variables, directory changes, and other shell modifications will persist between command executions."
   ]
  },
  {
   "cell_type": "code",
   "execution_count": null,
   "id": "089660c3",
   "metadata": {},
   "outputs": [
    {
     "data": {
      "text/plain": [
       "0"
      ]
     },
     "execution_count": null,
     "metadata": {},
     "output_type": "execute_result"
    }
   ],
   "source": [
    "env = dict(os.environ, TERM='dumb', PS1='', PS2='')\n",
    "sh = pexpect.spawn(eshell, encoding='utf-8', env=env)\n",
    "sh.sendline('stty -echo')\n",
    "sh.readline()\n",
    "echo = os.urandom(8).hex()\n",
    "echo_re = re.compile(fr'^{echo}\\s*$', flags=re.MULTILINE)\n",
    "sh.sendline(f'export PS1=\"\"')\n",
    "sh.sendline('set +o vi +o emacs')\n",
    "sh.sendline('echo '+echo)\n",
    "sh.expect(echo_re, timeout=2)"
   ]
  },
  {
   "cell_type": "markdown",
   "id": "2ce138ee",
   "metadata": {},
   "source": [
    "This cell implements a more sophisticated shell setup that addresses output formatting and command echo issues:\n",
    "\n",
    "- **Echo suppression**: Uses `stty -echo` to prevent command echoing, which is crucial for clean output capture\n",
    "- **Empty prompts**: Sets `PS1=\"\"` and `PS2=\"\"` to eliminate prompt strings that would interfere with output parsing\n",
    "- **Line editing disabled**: Runs `set +o vi +o emacs` to disable interactive line editing features that can cause issues in programmatic shell interaction\n",
    "- **Synchronization mechanism**: Establishes a unique echo token using `os.urandom(8).hex()` and corresponding regex pattern for reliable command completion detection\n",
    "\n",
    "The echo token system is particularly important - it provides a reliable way to detect when a command has finished executing by sending a unique marker and waiting for it to appear in the output."
   ]
  },
  {
   "cell_type": "code",
   "execution_count": null,
   "id": "9d2b3914",
   "metadata": {},
   "outputs": [
    {
     "name": "stdout",
     "output_type": "stream",
     "text": [
      "00_core.ipynb\r\n",
      "CHANGELOG.md\r\n",
      "index.ipynb\r\n",
      "\n"
     ]
    }
   ],
   "source": [
    "sh.sendline('ls | head -3')\n",
    "sh.sendline('echo '+echo)\n",
    "sh.expect(echo_re, timeout=2)\n",
    "print(sh.before)"
   ]
  },
  {
   "cell_type": "markdown",
   "id": "48bb00d9",
   "metadata": {},
   "source": [
    "This cell demonstrates the practical application of the configured shell for command execution and output capture:\n",
    "\n",
    "- **Command execution**: Sends `ls | head -3` to list the first three files in the current directory\n",
    "- **Completion detection**: Uses the echo token mechanism (`echo [random_hex]`) followed by `sh.expect(echo_re)` to reliably detect when the command has finished\n",
    "- **Clean output extraction**: Captures the command output via `sh.before`, which contains everything received before the expected echo token\n",
    "\n",
    "This pattern shows how the kernel can execute arbitrary bash commands while maintaining clean separation between command output and shell control mechanisms. The timeout parameter (2 seconds) provides protection against hanging commands, which is essential for a responsive interactive environment."
   ]
  },
  {
   "cell_type": "markdown",
   "id": "78591a42",
   "metadata": {},
   "source": [
    "## ShellInterpreter -"
   ]
  },
  {
   "cell_type": "code",
   "execution_count": null,
   "id": "1aa3ebfd",
   "metadata": {},
   "outputs": [],
   "source": [
    "#| export\n",
    "class ShellInterpreter:\n",
    "    def __init__(self, debug=False, timeout=2, shell_path=None, sudo=False, dumb=True):\n",
    "        self.debug,self.timeout = debug,timeout\n",
    "        if shell_path is None: \n",
    "            shell_path = shutil.which('bash') or os.environ.get('SHELL', '/bin/bash')\n",
    "        if sudo: shell_path = 'sudo -i ' + shell_path\n",
    "        env = dict(os.environ, TERM='dumb' if dumb else 'xterm')\n",
    "        self.sh = pexpect.spawn(shell_path, encoding='utf-8', env=env)\n",
    "        self.sh.sendline('stty -echo')\n",
    "        self.sh.readline()\n",
    "        self.echo = os.urandom(8).hex()\n",
    "        self.echo_re = re.compile(fr'^{self.echo}\\s*$', flags=re.MULTILINE)\n",
    "        self.is_zsh = 'zsh' in shell_path.lower()\n",
    "        if self.is_zsh:\n",
    "            self.sh.sendline('unsetopt PROMPT_SP')\n",
    "            self.sh.sendline('setopt NO_ZLE')\n",
    "            self.sh.sendline('unsetopt zle')\n",
    "        self.sh.sendline('PROMPT=\"\"')\n",
    "        self.sh.sendline('PROMPT2=\"\"')\n",
    "        self.sh.sendline('export PS1=\"\"')\n",
    "        self.sh.sendline('export PS2=\"\"')\n",
    "        self.sh.sendline('set +o vi +o emacs')\n",
    "        self.wait_echo()\n",
    "\n",
    "    def wait_echo(self, timeout=None):\n",
    "        self.sh.sendline('echo')\n",
    "        self.sh.sendline('echo '+self.echo)\n",
    "        self.sh.expect(self.echo_re, timeout=timeout)\n",
    "        return self.sh.before.rstrip()\n",
    "\n",
    "    def _ex(self, s, timeout=None):\n",
    "        if timeout is None: timeout=self.timeout\n",
    "        if self.debug: print('#', s)\n",
    "        self.sh.sendline(s)\n",
    "        res = self.wait_echo(timeout=timeout)\n",
    "        return res\n",
    "        \n",
    "    def __call__(self, cmd, timeout=None):\n",
    "        output = self._ex(cmd.rstrip(), timeout=timeout)\n",
    "        return output.replace(cmd + '\\r\\n', '', 1).rstrip()"
   ]
  },
  {
   "cell_type": "code",
   "execution_count": null,
   "id": "ecf32f3e",
   "metadata": {},
   "outputs": [
    {
     "name": "stdout",
     "output_type": "stream",
     "text": [
      "00_core.ipynb\r\n",
      "CHANGELOG.md\r\n",
      "index.ipynb\n"
     ]
    }
   ],
   "source": [
    "sh = ShellInterpreter()\n",
    "print(sh('ls | head -3'))"
   ]
  },
  {
   "cell_type": "markdown",
   "id": "591f19fb",
   "metadata": {},
   "source": [
    "NB: requires passwordless sudo to use this:"
   ]
  },
  {
   "cell_type": "code",
   "execution_count": null,
   "id": "d945c992",
   "metadata": {},
   "outputs": [],
   "source": [
    "# sh = ShellInterpreter(sudo=True)\n",
    "\n",
    "# sh('cd')\n",
    "# print(sh('pwd'))\n",
    "# sh('cd ..')\n",
    "# print(sh('pwd'))\n",
    "# print(sh('whoami'))"
   ]
  },
  {
   "cell_type": "markdown",
   "id": "af3ce49d",
   "metadata": {},
   "source": [
    "## PshMagic -"
   ]
  },
  {
   "cell_type": "code",
   "execution_count": null,
   "id": "2e6099f1",
   "metadata": {},
   "outputs": [],
   "source": [
    "#| export\n",
    "def shell_replace(s, shell=None):\n",
    "    \"Replace `@{var}` refs in `s` with their variable values, if they exist\"\n",
    "    if not shell: shell = get_ipython()\n",
    "    def f(m): return str(shell.user_ns.get(m[1], m[0]))\n",
    "    return re.sub(r'\\@{(\\w+?)}', f, s)"
   ]
  },
  {
   "cell_type": "code",
   "execution_count": null,
   "id": "f89875fb",
   "metadata": {},
   "outputs": [
    {
     "name": "stdout",
     "output_type": "stream",
     "text": [
      "asdf\n",
      "$1 @{aa}\n",
      "fdsa\n"
     ]
    }
   ],
   "source": [
    "b = 1\n",
    "\n",
    "a = '''asdf\n",
    "$@{b} @{aa}\n",
    "fdsa'''\n",
    "\n",
    "print(shell_replace(a))"
   ]
  },
  {
   "cell_type": "code",
   "execution_count": null,
   "id": "1cea4122",
   "metadata": {},
   "outputs": [],
   "source": [
    "#| export\n",
    "class PshMagic:\n",
    "    def __init__(self, shell, sudo=False, timeout=2, expand=True, o=None): store_attr()\n",
    "    def help (self): self.bash.parser.print_help()\n",
    "    def reset(self, shell_path=None): \n",
    "        self.o = ShellInterpreter(sudo=self.sudo, timeout=self.timeout, shell_path=shell_path)\n",
    "\n",
    "    def _xpand(self, expand=False): self.expand = expand\n",
    "    def _sudo(self, sudo=False):\n",
    "        self.sudo = sudo\n",
    "        self.o = None\n",
    "    def _timeout(self, timeout=2):\n",
    "        self.timeout = timeout\n",
    "        self.o = None\n",
    "\n",
    "    @magic_arguments()\n",
    "    @argument('-h', '--help',      action='store_true', help='Show this help')\n",
    "    @argument('-r', '--reset', nargs='?', const=True, help='Reset the shell interpreter (optionally choose shell)')\n",
    "    @argument('-o', '--obj',       action='store_true', help='Return this magic object')\n",
    "    @argument('-x', '--expand',    action='store_true', help='Enable variable expansion')\n",
    "    @argument('-X', '--no-expand', action='store_true', help='Disable variable expansion')\n",
    "    @argument('-s', '--sudo',      action='store_true', help='Enable sudo')\n",
    "    @argument('-S', '--no-sudo',   action='store_true', help='Disable sudo')\n",
    "    @argument('-t', '--timeout', type=int, help='Set timeout in seconds')\n",
    "    @argument('command', nargs='*', help='The command to run')\n",
    "    @no_var_expand\n",
    "    def bash(self, line, cell=None):\n",
    "        \"Run line or cell in persistent shell\"\n",
    "        if not cell and not line: line = 'echo'\n",
    "        if cell: cell = shell_replace(cell, self.shell)\n",
    "        if line: line = shell_replace(line, self.shell)\n",
    "        args = self.bash.parser.parse_args(line.split())\n",
    "        if not args.command and not cell:\n",
    "            if args.expand:    return self._xpand(True)\n",
    "            if args.no_expand: return self._xpand(False)\n",
    "            if args.sudo:      return self._sudo (True)\n",
    "            if args.no_sudo:   return self._sudo (False)\n",
    "            if args.timeout:   return self._timeout(args.timeout)\n",
    "            if args.reset:     return self.reset(args.reset if isinstance(args.reset, str) else None)\n",
    "            if args.help:      return self.help()\n",
    "            if args.obj:       return self\n",
    "            if args.command: cell = ' '.join(args.command)\n",
    "        if not cell and line: cell=line\n",
    "        disp = True\n",
    "        if cell.endswith(';'): disp,cell = False,cell[:-1]\n",
    "        if not self.o: self.reset()\n",
    "        try: res = self.o(cell) or None\n",
    "        except Exception as e:\n",
    "            self.o = None\n",
    "            raise e from None\n",
    "        if disp and res: print(res)"
   ]
  },
  {
   "cell_type": "markdown",
   "id": "0e16595f",
   "metadata": {},
   "source": [
    "These changes allow `-r` to work as before (reset with default shell) and also accept an optional shell path like `-r /bin/zsh` or `--reset=/bin/bash`."
   ]
  },
  {
   "cell_type": "code",
   "execution_count": null,
   "id": "955c955b",
   "metadata": {},
   "outputs": [],
   "source": [
    "#| export\n",
    "def create_magic(shell=None):\n",
    "    if not shell: shell = get_ipython()\n",
    "    magic = PshMagic(shell)\n",
    "    shell.register_magic_function(magic.bash, magic_name='bash', magic_kind='line_cell')"
   ]
  },
  {
   "cell_type": "code",
   "execution_count": null,
   "id": "858b3925",
   "metadata": {},
   "outputs": [],
   "source": [
    "# Only required if you don't load the extension\n",
    "create_magic()"
   ]
  },
  {
   "cell_type": "code",
   "execution_count": null,
   "id": "b8e6cfa3",
   "metadata": {},
   "outputs": [
    {
     "name": "stdout",
     "output_type": "stream",
     "text": [
      "/Users/jhoward/aai-ws/pshnb\n"
     ]
    }
   ],
   "source": [
    "%bash pwd"
   ]
  },
  {
   "cell_type": "code",
   "execution_count": null,
   "id": "cf46dbfd",
   "metadata": {},
   "outputs": [
    {
     "name": "stdout",
     "output_type": "stream",
     "text": [
      "00_core.ipynb\tLICENSE\t\tpshnb.egg-info\tsettings.ini\r\n",
      "CHANGELOG.md\tMANIFEST.in\tpyproject.toml\tsetup.py\r\n",
      "index.ipynb\tpshnb\t\tREADME.md\tstyles.css\n"
     ]
    }
   ],
   "source": [
    "%bash ls -h"
   ]
  },
  {
   "cell_type": "code",
   "execution_count": null,
   "id": "4c0f8e60",
   "metadata": {},
   "outputs": [],
   "source": [
    "%bash cd .."
   ]
  },
  {
   "cell_type": "code",
   "execution_count": null,
   "id": "9b4392f0",
   "metadata": {},
   "outputs": [
    {
     "name": "stdout",
     "output_type": "stream",
     "text": [
      "/Users/jhoward/aai-ws\n"
     ]
    }
   ],
   "source": [
    "%bash pwd"
   ]
  },
  {
   "cell_type": "code",
   "execution_count": null,
   "id": "52112f28",
   "metadata": {},
   "outputs": [],
   "source": [
    "%%bash\n",
    "cat > tmp << EOF\n",
    "hi\n",
    "there\n",
    "EOF"
   ]
  },
  {
   "cell_type": "code",
   "execution_count": null,
   "id": "1eb29d47",
   "metadata": {},
   "outputs": [
    {
     "name": "stdout",
     "output_type": "stream",
     "text": [
      "hi\r\n",
      "there\n"
     ]
    }
   ],
   "source": [
    "%bash cat tmp"
   ]
  },
  {
   "cell_type": "code",
   "execution_count": null,
   "id": "e3974538",
   "metadata": {},
   "outputs": [],
   "source": [
    "%bash rm tmp"
   ]
  },
  {
   "cell_type": "code",
   "execution_count": null,
   "id": "88cae507",
   "metadata": {},
   "outputs": [
    {
     "name": "stdout",
     "output_type": "stream",
     "text": [
      "_nbs\r\n",
      "_proc\r\n",
      "addnew.py\n"
     ]
    }
   ],
   "source": [
    "%bash ls | head -3"
   ]
  },
  {
   "cell_type": "code",
   "execution_count": null,
   "id": "66765d04",
   "metadata": {},
   "outputs": [],
   "source": [
    "n = 2"
   ]
  },
  {
   "cell_type": "code",
   "execution_count": null,
   "id": "13999ec5",
   "metadata": {},
   "outputs": [
    {
     "name": "stdout",
     "output_type": "stream",
     "text": [
      "2\n"
     ]
    }
   ],
   "source": [
    "%bash echo @{n}"
   ]
  },
  {
   "cell_type": "code",
   "execution_count": null,
   "id": "972ceb3e",
   "metadata": {},
   "outputs": [
    {
     "name": "stdout",
     "output_type": "stream",
     "text": [
      "_nbs\r\n",
      "_proc\n"
     ]
    }
   ],
   "source": [
    "%bash ls | head -@{n}"
   ]
  },
  {
   "cell_type": "code",
   "execution_count": null,
   "id": "3de04eee",
   "metadata": {},
   "outputs": [
    {
     "name": "stdout",
     "output_type": "stream",
     "text": [
      "starting\r\n",
      "[1] 18411\n"
     ]
    }
   ],
   "source": [
    "%%bash\n",
    "echo starting\n",
    "(sleep 1; echo finished) &"
   ]
  },
  {
   "cell_type": "code",
   "execution_count": null,
   "id": "58be93c1",
   "metadata": {},
   "outputs": [
    {
     "name": "stdout",
     "output_type": "stream",
     "text": [
      "finished\r\n",
      "\r\n",
      "[1]+  Done                    ( sleep 1; echo finished )\n"
     ]
    }
   ],
   "source": [
    "%bash"
   ]
  },
  {
   "cell_type": "code",
   "execution_count": null,
   "id": "a83f67b4",
   "metadata": {},
   "outputs": [
    {
     "name": "stdout",
     "output_type": "stream",
     "text": [
      "::\n",
      "\n",
      "  %bash [-h] [-r [RESET]] [-o] [-x] [-X] [-s] [-S] [-t TIMEOUT]\n",
      "            [command ...]\n",
      "\n",
      "Run line or cell in persistent shell\n",
      "\n",
      "positional arguments:\n",
      "  command               The command to run\n",
      "\n",
      "options:\n",
      "  -h, --help            Show this help\n",
      "  -r <[RESET]>, --reset <[RESET]>\n",
      "                        Reset the shell interpreter (optionally choose shell)\n",
      "  -o, --obj             Return this magic object\n",
      "  -x, --expand          Enable variable expansion\n",
      "  -X, --no-expand       Disable variable expansion\n",
      "  -s, --sudo            Enable sudo\n",
      "  -S, --no-sudo         Disable sudo\n",
      "  -t TIMEOUT, --timeout TIMEOUT\n",
      "                        Set timeout in seconds\n"
     ]
    }
   ],
   "source": [
    "%bash -h"
   ]
  },
  {
   "cell_type": "code",
   "execution_count": null,
   "id": "8ce2d26c",
   "metadata": {},
   "outputs": [
    {
     "name": "stdout",
     "output_type": "stream",
     "text": [
      "/Users/jhoward/aai-ws\n"
     ]
    }
   ],
   "source": [
    "%bash pwd"
   ]
  },
  {
   "cell_type": "markdown",
   "id": "31b50f90",
   "metadata": {},
   "source": [
    "Reset the interpreter:"
   ]
  },
  {
   "cell_type": "code",
   "execution_count": null,
   "id": "b934eb1d",
   "metadata": {},
   "outputs": [],
   "source": [
    "%bash -r"
   ]
  },
  {
   "cell_type": "code",
   "execution_count": null,
   "id": "82ecc695",
   "metadata": {},
   "outputs": [
    {
     "name": "stdout",
     "output_type": "stream",
     "text": [
      "/Users/jhoward/aai-ws/pshnb\n"
     ]
    }
   ],
   "source": [
    "%bash pwd"
   ]
  },
  {
   "cell_type": "code",
   "execution_count": null,
   "id": "a825e590",
   "metadata": {},
   "outputs": [
    {
     "name": "stdout",
     "output_type": "stream",
     "text": [
      "/opt/homebrew/bin/bash\n"
     ]
    }
   ],
   "source": [
    "%bash echo $SHELL"
   ]
  },
  {
   "cell_type": "markdown",
   "id": "6cc8439b",
   "metadata": {},
   "source": [
    "sudo:"
   ]
  },
  {
   "cell_type": "code",
   "execution_count": null,
   "id": "8673aa0e",
   "metadata": {},
   "outputs": [],
   "source": [
    "%bash -s"
   ]
  },
  {
   "cell_type": "code",
   "execution_count": null,
   "id": "7125b817",
   "metadata": {},
   "outputs": [
    {
     "name": "stdout",
     "output_type": "stream",
     "text": [
      "root\n"
     ]
    }
   ],
   "source": [
    "%bash whoami"
   ]
  },
  {
   "cell_type": "markdown",
   "id": "85d5cdd2",
   "metadata": {},
   "source": [
    "no sudo:"
   ]
  },
  {
   "cell_type": "code",
   "execution_count": null,
   "id": "1169a0ab",
   "metadata": {},
   "outputs": [],
   "source": [
    "%bash -S"
   ]
  },
  {
   "cell_type": "code",
   "execution_count": null,
   "id": "a2193f7e",
   "metadata": {},
   "outputs": [
    {
     "name": "stdout",
     "output_type": "stream",
     "text": [
      "jhoward\n"
     ]
    }
   ],
   "source": [
    "%bash whoami"
   ]
  },
  {
   "cell_type": "markdown",
   "id": "1452197b",
   "metadata": {},
   "source": [
    "timeout:"
   ]
  },
  {
   "cell_type": "code",
   "execution_count": null,
   "id": "de589a7f",
   "metadata": {},
   "outputs": [],
   "source": [
    "%bash -t 1"
   ]
  },
  {
   "cell_type": "code",
   "execution_count": null,
   "id": "2905556b",
   "metadata": {},
   "outputs": [
    {
     "name": "stdout",
     "output_type": "stream",
     "text": [
      "timed out\n"
     ]
    }
   ],
   "source": [
    "try: get_ipython().run_line_magic('bash', 'sleep 2')\n",
    "except TIMEOUT: print(\"timed out\")"
   ]
  },
  {
   "cell_type": "code",
   "execution_count": null,
   "id": "1db7450a",
   "metadata": {},
   "outputs": [],
   "source": [
    "#|export\n",
    "def load_ipython_extension(ipython):\n",
    "    \"Required function for creating magic\"\n",
    "    create_magic(shell=ipython)"
   ]
  },
  {
   "cell_type": "code",
   "execution_count": null,
   "id": "66869255",
   "metadata": {},
   "outputs": [],
   "source": [
    "#| export\n",
    "def create_ipython_config():\n",
    "    \"Called by `pshnb_install` to install magic\"\n",
    "    ipython_dir = Path(get_ipython_dir())\n",
    "    cf = ipython_dir/'profile_default'/'ipython_config.py'\n",
    "    cf.parent.mkdir(parents=True, exist_ok=True)\n",
    "    if cf.exists() and 'pshnb' in cf.read_text(): return print('pshnb already installed!')\n",
    "    with cf.open(mode='a') as f: f.write(\"\\nc.InteractiveShellApp.extensions.append('pshnb.core')\\n\\n\")\n",
    "    print(f\"Jupyter config updated at {cf}\")"
   ]
  },
  {
   "cell_type": "markdown",
   "id": "94ec4289",
   "metadata": {},
   "source": [
    "## Export -"
   ]
  },
  {
   "cell_type": "code",
   "execution_count": null,
   "id": "1e9ee5c1",
   "metadata": {},
   "outputs": [],
   "source": [
    "#|hide\n",
    "#|eval: false\n",
    "from nbdev.doclinks import nbdev_export\n",
    "nbdev_export()"
   ]
  },
  {
   "cell_type": "code",
   "execution_count": null,
   "id": "451d1ea6",
   "metadata": {},
   "outputs": [],
   "source": []
  }
 ],
 "metadata": {
  "kernelspec": {
   "display_name": "python3",
   "language": "python",
   "name": "python3"
  }
 },
 "nbformat": 4,
 "nbformat_minor": 5
}
